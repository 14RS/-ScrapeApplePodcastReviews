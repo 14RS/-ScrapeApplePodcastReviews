{
 "cells": [
  {
   "cell_type": "markdown",
   "id": "ffbc9999",
   "metadata": {},
   "source": [
    "# Apple Podcast Review Scraping with the app_store_scraper\n",
    "\n",
    "This program is a wrapper for scraping the Apple Podcast Reviews with the **app-store-scraper** (thank you Eric Lim, see https://pypi.org/project/app-store-scraper/, MIT license). The reviews are then cleaned up with regular expressions and an emoji libary (thank you Neel Sha, see https://pypi.org/project/emot/ or https://github.com/NeelShah18/emot, GNU General Public License)\n",
    "\n",
    "To get started:\n",
    "1. Set the right app_id, app_name and country under the **Set input** section\n",
    "2. Make sure you have the emoji.py file in the same folder as this notebook\n",
    "3. Run everything\n"
   ]
  },
  {
   "cell_type": "markdown",
   "id": "3d8649ea",
   "metadata": {},
   "source": [
    "## Import modules"
   ]
  },
  {
   "cell_type": "code",
   "execution_count": null,
   "id": "139ab6a9",
   "metadata": {},
   "outputs": [],
   "source": [
    "!pip install app-store-scraper"
   ]
  },
  {
   "cell_type": "code",
   "execution_count": null,
   "id": "6e2507d6",
   "metadata": {},
   "outputs": [],
   "source": [
    "from app_store_scraper import Podcast\n",
    "from pprint import pprint\n",
    "import os\n",
    "import pandas as pd\n",
    "import re\n",
    "\n",
    "import emoji"
   ]
  },
  {
   "cell_type": "code",
   "execution_count": null,
   "id": "092c920b",
   "metadata": {},
   "outputs": [],
   "source": [
    "# Define function to convert the emoji's to actual text\n",
    "def convert_emojis(text):\n",
    "    for emot in emoji.UNICODE_EMOJI:\n",
    "        text = text.replace(emot, \"_\".join(emoji.UNICODE_EMOJI[emot].replace(\",\",\"\").split()))\n",
    "    return text"
   ]
  },
  {
   "cell_type": "markdown",
   "id": "df250ef6",
   "metadata": {},
   "source": [
    "## Set input"
   ]
  },
  {
   "cell_type": "code",
   "execution_count": null,
   "id": "72b4bf43",
   "metadata": {},
   "outputs": [],
   "source": [
    "# Set input\n",
    "app_id = 437299706\n",
    "app_name = 'last-podcast-on-the-left'\n",
    "country = 'us'\n",
    "\n",
    "# Set output path\n",
    "path_out = r'...'\n",
    "\n",
    "if not(os.path.isdir(path_out)):\n",
    "    raise Exception(f\"Output folder ({path_out}) does not exist, please create it first.\")\n",
    "    \n",
    "filename_csv = f'{app_name}_reviews_table.csv'\n",
    "file_csv = os.path.join(path_out, filename_csv)"
   ]
  },
  {
   "cell_type": "code",
   "execution_count": null,
   "id": "7e41b842",
   "metadata": {
    "scrolled": true
   },
   "outputs": [],
   "source": [
    "# Set to a very large number to make sure you get everything\n",
    "n = 100000000\n",
    "\n",
    "# Create class object\n",
    "sysk = Podcast(country=country, app_name=app_name, app_id=app_id)\n",
    "\n",
    "# Collect reviews\n",
    "sysk.review(how_many=n)\n",
    "\n",
    "#pprint(sysk.reviews)\n",
    "pprint(sysk.reviews_count)"
   ]
  },
  {
   "cell_type": "markdown",
   "id": "ef8123fe",
   "metadata": {},
   "source": [
    "## Clean review content and store list of reviews to one dictionary\n",
    "\n",
    "A review item is a dictionary with the following content (isEdited is not there somehow)\n",
    "\n",
    "{\n",
    "    \"date\": datetime.datetime,\n",
    "    \"isEdited\": bool,\n",
    "    \"rating\": int,\n",
    "    \"review\": str,\n",
    "    \"title\": str,\n",
    "    \"userName\": str\n",
    " }"
   ]
  },
  {
   "cell_type": "code",
   "execution_count": null,
   "id": "382ca90b",
   "metadata": {
    "scrolled": true
   },
   "outputs": [],
   "source": [
    "# Set up empty lists\n",
    "timestamps = []\n",
    "reviews = []\n",
    "reviews_raw = []\n",
    "titles = []\n",
    "usernames = []\n",
    "ratings = []\n",
    "#isediteds = []\n",
    "\n",
    "# Define datetime format\n",
    "dt_format = '%Y%m%dT%H%M%S'\n",
    "\n",
    "# Set-up empty dictionary\n",
    "D = {}\n",
    "\n",
    "# Iterate over review items\n",
    "for review_item in sysk.reviews:\n",
    "    \n",
    "    # Convert datetime to string\n",
    "    timestamp = review_item['date'].strftime(dt_format)\n",
    "    \n",
    "    # Strip strings and store all items to easier variable names\n",
    "    review = review_item['review'].strip()\n",
    "    title = review_item['title'].strip()\n",
    "    username = review_item['userName'].strip()\n",
    "    rating = review_item['rating']\n",
    "    \n",
    "    # Store a version with minimal adjustments\n",
    "    review_raw = re.sub(r'\\t', ' ', review)\n",
    "    reviews_raw.append(review_raw)\n",
    "    \n",
    "    # Clean up the review text with regexes\n",
    "    review = re.sub(r'…', \"...\", review) # replace fancy triple period with three actual periods\n",
    "    review = re.sub(r'&', \"and\", review) # replace the ampersand with and\n",
    "    review = re.sub(r'[‘’]', \"'\", review) # replace fancy single quotes to regular single quotes\n",
    "    review = re.sub(r'[“”]', '\"', review) # replace fancy double quotes to regular double quotes\n",
    "    review = re.sub(r'[\\n\\t]', ' ', review) # replace newline and tab characters with a whitespace\n",
    "    review = re.sub(r'\\s+', ' ', review) # replace duplicate whitespaces with a single whitespace\n",
    "    review = re.sub(r'\\?{2,}', '?', review) # replace duplicate question marks with a single question mark\n",
    "    review = re.sub(r'\\!{2,}', '!', review) # replace duplciate exclamation marks with a single exclamation mark\n",
    "    \n",
    "    title = re.sub(r'\\?{2,}', '?', title) # replace duplicate question marks with a single question mark\n",
    "    title = re.sub(r'\\!{2,}', '!', title) # replace duplciate exclamation marks with a single exclamation mark\n",
    "    title = re.sub(r'\\s+', ' ', title) # replace duplicate whitespaces with a single whitespace\n",
    "    title = re.sub(r'[‘’]', \"'\", title) # replace fancy single quotes to regular single quotes\n",
    "    title = re.sub(r'[“”]', '\"', title) # replace fancy double quotes to regular double quotes\n",
    "    title = re.sub(r'&', \"and\", title) # replace the ampersand with and\n",
    "    title = re.sub(r'…', \"...\", title) # replace fancy triple period with three actual periods\n",
    "    \n",
    "    title = title.title() # Only the first letter is capitalized\n",
    "    \n",
    "    review = convert_emojis(review) # Convert the emojis to text\n",
    "    title = convert_emojis(title) # Convert the emojis to text\n",
    "    username = convert_emojis(username) # Convert the emojis to text\n",
    "    \n",
    "    # Append to list\n",
    "    timestamps.append(timestamp)\n",
    "    reviews.append(review)\n",
    "    titles.append(title)\n",
    "    usernames.append(username)\n",
    "    ratings.append(rating)\n",
    "    #isediteds.append(review_item['isEdited'])\n",
    "    \n",
    "# Add to dictionary\n",
    "D['user'] = usernames\n",
    "D['timestamp'] = timestamps\n",
    "D['rating'] = ratings\n",
    "#D['isedited'] = isediteds\n",
    "D['title'] = titles\n",
    "D['review'] = reviews\n",
    "D['review_raw'] = reviews_raw"
   ]
  },
  {
   "cell_type": "markdown",
   "id": "ab118569",
   "metadata": {},
   "source": [
    "## Export to CSV"
   ]
  },
  {
   "cell_type": "code",
   "execution_count": null,
   "id": "0c289b74",
   "metadata": {},
   "outputs": [],
   "source": [
    "# Store to dataframe\n",
    "df = pd.DataFrame(D)\n",
    "\n",
    "# Export to .csv\n",
    "df.to_csv(file_csv, index=False, sep=\"\\t\")\n",
    "print(f'Exported to {file_csv}')"
   ]
  },
  {
   "cell_type": "code",
   "execution_count": null,
   "id": "051879fc",
   "metadata": {},
   "outputs": [],
   "source": [
    "df"
   ]
  },
  {
   "cell_type": "markdown",
   "id": "bf2cd6ba",
   "metadata": {},
   "source": [
    "## Read data from file"
   ]
  },
  {
   "cell_type": "code",
   "execution_count": null,
   "id": "10495d4a",
   "metadata": {},
   "outputs": [],
   "source": [
    "df = pd.read_csv(file_csv, sep='\\t', parse_dates=['timestamp'])"
   ]
  },
  {
   "cell_type": "code",
   "execution_count": null,
   "id": "dc86d777",
   "metadata": {
    "scrolled": false
   },
   "outputs": [],
   "source": [
    "df"
   ]
  },
  {
   "cell_type": "markdown",
   "id": "29f02894",
   "metadata": {},
   "source": [
    "## Quick analysis"
   ]
  },
  {
   "cell_type": "code",
   "execution_count": null,
   "id": "ffab227b",
   "metadata": {},
   "outputs": [],
   "source": [
    "df['timestamp'] =  pd.to_datetime(df['timestamp'], format='%Y%m%dT%H%M%S')\n",
    "df['month'] = df['timestamp'].dt.month\n",
    "df['year'] = df['timestamp'].dt.year\n",
    "\n",
    "dfmonthly = df.groupby([\"year\", \"month\"]).median()"
   ]
  },
  {
   "cell_type": "code",
   "execution_count": null,
   "id": "c3ba9b5e",
   "metadata": {},
   "outputs": [],
   "source": [
    "dfmonthly['rating'].plot();"
   ]
  }
 ],
 "metadata": {
  "kernelspec": {
   "display_name": "python39",
   "language": "python",
   "name": "python39"
  },
  "language_info": {
   "codemirror_mode": {
    "name": "ipython",
    "version": 3
   },
   "file_extension": ".py",
   "mimetype": "text/x-python",
   "name": "python",
   "nbconvert_exporter": "python",
   "pygments_lexer": "ipython3",
   "version": "3.9.0"
  }
 },
 "nbformat": 4,
 "nbformat_minor": 5
}
